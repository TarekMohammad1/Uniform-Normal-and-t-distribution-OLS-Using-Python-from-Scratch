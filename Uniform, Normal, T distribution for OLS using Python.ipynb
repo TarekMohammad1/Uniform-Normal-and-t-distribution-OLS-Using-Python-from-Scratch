{
 "cells": [
  {
   "cell_type": "markdown",
   "metadata": {},
   "source": [
    "## Part 1: For Normal Distribution Case: Assuming normal Distribution for fx and fe:"
   ]
  },
  {
   "cell_type": "code",
   "execution_count": 1,
   "metadata": {},
   "outputs": [],
   "source": [
    "# import packages:\n",
    "\n",
    "import numpy as np\n",
    "import matplotlib.pyplot as plt\n",
    "import pandas as pd\n"
   ]
  },
  {
   "cell_type": "markdown",
   "metadata": {},
   "source": [
    "## (a): Properties of OLS estimators:"
   ]
  },
  {
   "cell_type": "markdown",
   "metadata": {},
   "source": [
    "- The theoretical properties of the OLS estimators alpha-hat and beta-hat are: both estimators are Linear, unbiased (both of them approach True Beta and alpha), efficient (least variance among all unbiased estimators) and homoskedastic, implying that there is no autocorrelation thus exogenous, and consistent.\n",
    "\n",
    "- The theoretical distrinution of both estimators is normal with mean 1, hence, as n tends to infinity then it is asympotically normal."
   ]
  },
  {
   "cell_type": "markdown",
   "metadata": {},
   "source": [
    "## (b) and (c): Calculating Alpha-hat, Beta-hat, Mean, Standard Deviation, and Plotting:"
   ]
  },
  {
   "cell_type": "code",
   "execution_count": 2,
   "metadata": {},
   "outputs": [],
   "source": [
    "M = 5000\n",
    "n = 50"
   ]
  },
  {
   "cell_type": "code",
   "execution_count": 3,
   "metadata": {},
   "outputs": [],
   "source": [
    "def func_1(M,n):\n",
    "    # part b:\n",
    "    alpha = 1 \n",
    "    beta = 1\n",
    "    α = np.ones((M,n))\n",
    "    y = np.zeros((M,n))\n",
    "    x = np.random.normal(0,1,(M,n))\n",
    "    e = np.random.normal(0,1,(M,n))\n",
    "    for i in range(len(x)):\n",
    "        for j in range(len(x[i])):\n",
    "            y[i][j] = alpha + beta*(x[i][j]) +e[i][j]\n",
    "            \n",
    "    # calculating alpha and beta\n",
    "    betaMatrix = []\n",
    "    sigmaY = []\n",
    "    for i in range(len(x)):\n",
    "        dfα = pd.DataFrame(α[i])\n",
    "        dfα[\"1\"] = x[i] \n",
    "        betaMatrix.append(((np.linalg.inv((dfα.transpose()).dot(dfα)))).dot(dfα.transpose()).dot(pd.DataFrame(y[i])))\n",
    "    \n",
    "        #Calculate Errors\n",
    "        \n",
    "        errors = np.subtract(pd.DataFrame(y[i]),dfα.dot(betaMatrix[i])) \n",
    "        errorsSquared = np.power(errors, 2) \n",
    "        \n",
    "        # Calculate Variance, Covariance and Sigma\n",
    "        \n",
    "        variance = (errorsSquared.sum(axis=0))/M \n",
    "        covarianceMatrixY = variance[0]*(np.linalg.inv((dfα.transpose()).dot(dfα))) \n",
    "        sigmaY.append(np.sqrt(np.diag(covarianceMatrixY)))\n",
    "    # mean\n",
    "    betaMatrix = np.swapaxes(betaMatrix,0,1)\n",
    "    meanMatrix = []\n",
    "    meanMatrix.append(np.mean(betaMatrix[0]))\n",
    "    meanMatrix.append(np.mean(betaMatrix[1]))\n",
    "    \n",
    "    # std\n",
    "    stdMatrix = []\n",
    "    stdMatrix.append(np.std(betaMatrix[0]))\n",
    "    stdMatrix.append(np.std(betaMatrix[1]))\n",
    "    \n",
    "    return betaMatrix, sigmaY, meanMatrix, stdMatrix\n"
   ]
  },
  {
   "cell_type": "code",
   "execution_count": 4,
   "metadata": {},
   "outputs": [],
   "source": [
    "betaMatrix, sigmaY, meanMatrix, stdMatrix = func_1(M,n)"
   ]
  },
  {
   "cell_type": "code",
   "execution_count": 5,
   "metadata": {},
   "outputs": [
    {
     "name": "stdout",
     "output_type": "stream",
     "text": [
      "\n",
      "This is BetaMatrix: Containing Both, Beta-hat and Alpha-hat in one Array:\n",
      "\n",
      "[[[1.08121865]\n",
      "  [0.85316217]\n",
      "  [1.24061544]\n",
      "  ...\n",
      "  [0.95308777]\n",
      "  [0.84951721]\n",
      "  [0.96541692]]\n",
      "\n",
      " [[0.93260538]\n",
      "  [1.21904458]\n",
      "  [1.13851191]\n",
      "  ...\n",
      "  [1.03062811]\n",
      "  [0.94603704]\n",
      "  [0.9031959 ]]]\n",
      "\n",
      "This is Standard error: This is a sample of the std (since printing it all out will take so many pages) \n",
      "\n",
      "[array([0.01453649, 0.01240258]), array([0.01471554, 0.01384362]), array([0.01370343, 0.0135373 ]), array([0.01602827, 0.0140498 ]), array([0.0133746 , 0.01205914]), array([0.01425539, 0.01431567]), array([0.01389382, 0.0156748 ]), array([0.01163674, 0.01063297]), array([0.01148986, 0.01268722]), array([0.01557738, 0.01369278]), array([0.01293857, 0.01370328]), array([0.01267228, 0.01310837]), array([0.01582173, 0.01801288]), array([0.01251674, 0.00980061]), array([0.01399808, 0.01419506]), array([0.01472308, 0.0147767 ]), array([0.0123924 , 0.01432148]), array([0.01468047, 0.01745571]), array([0.0144339 , 0.01729519]), array([0.01491652, 0.01462153]), array([0.01335314, 0.0141422 ]), array([0.01198735, 0.01255181]), array([0.01183957, 0.01294801]), array([0.01224425, 0.01190678]), array([0.01464885, 0.01502076]), array([0.01604388, 0.02161509]), array([0.01189978, 0.01274612]), array([0.01457575, 0.01510982]), array([0.01318762, 0.01511855]), array([0.01332605, 0.01387347]), array([0.01422153, 0.01100062]), array([0.0157199 , 0.01403536]), array([0.01480846, 0.01622076]), array([0.01213945, 0.00984105]), array([0.01631499, 0.01769755]), array([0.01332323, 0.01243019]), array([0.01459716, 0.01497244]), array([0.01404932, 0.01169597]), array([0.01421375, 0.01311372]), array([0.01284732, 0.01619133]), array([0.01375124, 0.01199447]), array([0.01373485, 0.01631282]), array([0.01295761, 0.01409171]), array([0.01427008, 0.01483723]), array([0.01119202, 0.00957654]), array([0.01422974, 0.01267192]), array([0.01022701, 0.01119063]), array([0.01436209, 0.01582686]), array([0.01534036, 0.01619138]), array([0.01545334, 0.01638395])]\n",
      "\n",
      "This is meanMatrix\n",
      "\n",
      "[1.0002432981534712, 1.0007424027494574]\n",
      "\n",
      "This is stdMatrix\n",
      "\n",
      "[0.1434860602922077, 0.14590982156916948]\n"
     ]
    }
   ],
   "source": [
    "print(\"\\nThis is BetaMatrix: Containing Both, Beta-hat and Alpha-hat in one Array:\\n\")\n",
    "print(betaMatrix)\n",
    "print(\"\\nThis is Standard error: This is a sample of the std (since printing it all out will take so many pages) \\n\")\n",
    "print(sigmaY[0:50])\n",
    "print(\"\\nThis is meanMatrix\\n\")\n",
    "print(meanMatrix)\n",
    "print(\"\\nThis is stdMatrix\\n\")\n",
    "print(stdMatrix)"
   ]
  },
  {
   "cell_type": "code",
   "execution_count": 6,
   "metadata": {
    "scrolled": false
   },
   "outputs": [
    {
     "data": {
      "image/png": "[encoded data removed]",
      "text/plain": [
       "<Figure size 432x288 with 1 Axes>"
      ]
     },
     "metadata": {},
     "output_type": "display_data"
    },
    {
     "data": {
      "image/png": "[encoded data removed]",
      "text/plain": [
       "<Figure size 432x288 with 1 Axes>"
      ]
     },
     "metadata": {},
     "output_type": "display_data"
    }
   ],
   "source": [
    "plt.hist(betaMatrix[0], bins = 100)\n",
    "plt.title(\"Alpha-hat\")\n",
    "plt.show()\n",
    "plt.hist(betaMatrix[1], bins = 100)\n",
    "plt.title(\"Beta-hat\")\n",
    "plt.show()"
   ]
  },
  {
   "cell_type": "markdown",
   "metadata": {},
   "source": [
    "## (d): Comparison:"
   ]
  },
  {
   "cell_type": "markdown",
   "metadata": {},
   "source": [
    "- The  distribution of the simulated alpha and beta is exactly similar to the theoretical distribution of the OLS estimators; where they are normal with mean 1 like the True Alpha and Beta."
   ]
  },
  {
   "cell_type": "markdown",
   "metadata": {},
   "source": [
    "## Part 2: For Normal Distribution Case: Assuming normal Distribution for fx and fe; however, in this case, there correlated with a factor of 0.5:"
   ]
  },
  {
   "cell_type": "markdown",
   "metadata": {},
   "source": [
    "## (a): Properties of OLS estimators:"
   ]
  },
  {
   "cell_type": "markdown",
   "metadata": {},
   "source": [
    "\n",
    "- The theoretical properties of the OLS estimators alpha-hat and beta-hat are: \n",
    "\n",
    "    - For Beta-hat: linear, biased (beta hat is equal to 1.5 however beta is 1), heteroskedastic and endogenous (there is correlation), efficient, and not consistent.     \n",
    "    - For Alpha-hat: Linear, unbiased (approach True alpha), efficient, homoskedastic, implying that there is no autocorrelation thus exogenous, and consistent.\n",
    "    \n",
    "- The theoretical distrinution of both estimators is normal, hence, as n tends to infinity then it is asympotically normal."
   ]
  },
  {
   "cell_type": "markdown",
   "metadata": {},
   "source": [
    "## (b) and (c): Calculating Alpha-hat, Beta-hat, Mean, Standard Deviation, and Plotting:"
   ]
  },
  {
   "cell_type": "code",
   "execution_count": 7,
   "metadata": {},
   "outputs": [],
   "source": [
    "cov = [[1,0.5],[0.5,1]]"
   ]
  },
  {
   "cell_type": "code",
   "execution_count": 8,
   "metadata": {},
   "outputs": [],
   "source": [
    "\n",
    "def func_2(M,n):\n",
    "    # part b:\n",
    "    alpha = 1 \n",
    "    beta = 1\n",
    "    α = np.ones((M,n))\n",
    "    y = np.zeros((M,n))\n",
    "    x=(np.random.multivariate_normal([0,0], cov, size = (M,n)))\n",
    "    x=np.swapaxes(x,0,2)\n",
    "    x=np.swapaxes(x,1,2)\n",
    "    x_corr = x[0]\n",
    "    e_corr = x[1]\n",
    "    for i in range(len(x_corr)):\n",
    "        for j in range(len(x_corr[i])):\n",
    "            y[i][j] = alpha + beta*(x_corr[i][j]) +e_corr[i][j]\n",
    "            \n",
    "    # calculating alpha and beta\n",
    "    betaMatrix = []\n",
    "    sigmaY = []\n",
    "    for i in range(len(x_corr)):\n",
    "        dfα = pd.DataFrame(α[i])\n",
    "        dfα[\"1\"] = x_corr[i] \n",
    "        betaMatrix.append(((np.linalg.inv((dfα.transpose()).dot(dfα)))).dot(dfα.transpose()).dot(pd.DataFrame(y[i])))\n",
    "    \n",
    "        #Calculate Errors\n",
    "        \n",
    "        errors = np.subtract(pd.DataFrame(y[i]),dfα.dot(betaMatrix[i])) \n",
    "        errorsSquared = np.power(errors, 2) \n",
    "        \n",
    "        # Calculate Variance, Covariance and Sigma\n",
    "        \n",
    "        variance = (errorsSquared.sum(axis=0))/n \n",
    "        covarianceMatrixY = variance[0]*(np.linalg.inv((dfα.transpose()).dot(dfα))) \n",
    "        sigmaY.append(np.sqrt(np.diag(covarianceMatrixY)))\n",
    "    # mean\n",
    "    betaMatrix = np.swapaxes(betaMatrix,0,1)\n",
    "    meanMatrix = []\n",
    "    meanMatrix.append(np.mean(betaMatrix[0]))\n",
    "    meanMatrix.append(np.mean(betaMatrix[1]))\n",
    "    \n",
    "    # std\n",
    "    stdMatrix = []\n",
    "    stdMatrix.append(np.std(betaMatrix[0]))\n",
    "    stdMatrix.append(np.std(betaMatrix[1]))\n",
    "    \n",
    "    return betaMatrix, sigmaY, meanMatrix, stdMatrix\n",
    "\n"
   ]
  },
  {
   "cell_type": "code",
   "execution_count": 9,
   "metadata": {},
   "outputs": [],
   "source": [
    "betaMatrix, sigmaY, meanMatrix, stdMatrix = func_2(M,n)"
   ]
  },
  {
   "cell_type": "code",
   "execution_count": 10,
   "metadata": {},
   "outputs": [
    {
     "name": "stdout",
     "output_type": "stream",
     "text": [
      "\n",
      "This is BetaMatrix: Containing Both, Beta-hat and Alpha-hat in one Array:\n",
      "\n",
      "[[[0.81288785]\n",
      "  [0.99203927]\n",
      "  [0.78911338]\n",
      "  ...\n",
      "  [1.10596906]\n",
      "  [1.09394272]\n",
      "  [1.02916594]]\n",
      "\n",
      " [[1.42147711]\n",
      "  [1.5922501 ]\n",
      "  [1.47039992]\n",
      "  ...\n",
      "  [1.46951078]\n",
      "  [1.46442101]\n",
      "  [1.36611037]]]\n",
      "\n",
      "This is Standard error: This is a sample of the std (since printing it all out will take so many pages) \n",
      "\n",
      "[array([0.11638837, 0.10491715]), array([0.13389528, 0.15076747]), array([0.11758281, 0.13184802]), array([0.12152105, 0.12289598]), array([0.13379389, 0.15256048]), array([0.11184303, 0.11919058]), array([0.12129169, 0.14303422]), array([0.11313614, 0.0995807 ]), array([0.10505234, 0.09469229]), array([0.11252412, 0.1036939 ]), array([0.11356685, 0.10790114]), array([0.09987814, 0.0972357 ]), array([0.13121548, 0.12752513]), array([0.10002361, 0.09623278]), array([0.11363872, 0.12694874]), array([0.12914313, 0.1461251 ]), array([0.12256913, 0.11428548]), array([0.11387887, 0.10969582]), array([0.14122936, 0.17909536]), array([0.10990443, 0.10574078]), array([0.12965288, 0.13608174]), array([0.10650372, 0.09604237]), array([0.09456214, 0.08481694]), array([0.106133  , 0.10534527]), array([0.14100053, 0.15199592]), array([0.13464631, 0.14700104]), array([0.12017584, 0.12493116]), array([0.11873655, 0.13042476]), array([0.12175298, 0.11970273]), array([0.12271896, 0.10281626]), array([0.12812238, 0.13599156]), array([0.10228016, 0.0927073 ]), array([0.11542241, 0.15419637]), array([0.13528389, 0.12889452]), array([0.11989746, 0.15122687]), array([0.11344698, 0.08269292]), array([0.09661277, 0.10488742]), array([0.11717137, 0.11261316]), array([0.13654321, 0.14542204]), array([0.11986459, 0.12950862]), array([0.11380149, 0.11489859]), array([0.11500928, 0.12633659]), array([0.13798675, 0.13102683]), array([0.11714628, 0.1033112 ]), array([0.12855038, 0.12704066]), array([0.17006224, 0.15819687]), array([0.09843482, 0.12378048]), array([0.10458821, 0.10404782]), array([0.11953775, 0.0971554 ]), array([0.12059313, 0.12346987])]\n",
      "\n",
      "This is meanMatrix\n",
      "\n",
      "[0.9993147808416653, 1.4979285288279602]\n",
      "\n",
      "This is stdMatrix\n",
      "\n",
      "[0.12379744474266323, 0.122671989825679]\n"
     ]
    }
   ],
   "source": [
    "print(\"\\nThis is BetaMatrix: Containing Both, Beta-hat and Alpha-hat in one Array:\\n\")\n",
    "print(betaMatrix)\n",
    "print(\"\\nThis is Standard error: This is a sample of the std (since printing it all out will take so many pages) \\n\")\n",
    "print(sigmaY[0:50])\n",
    "print(\"\\nThis is meanMatrix\\n\")\n",
    "print(meanMatrix)\n",
    "print(\"\\nThis is stdMatrix\\n\")\n",
    "print(stdMatrix)"
   ]
  },
  {
   "cell_type": "code",
   "execution_count": 11,
   "metadata": {},
   "outputs": [
    {
     "data": {
      "image/png": "[encoded data removed]",
      "text/plain": [
       "<Figure size 432x288 with 1 Axes>"
      ]
     },
     "metadata": {},
     "output_type": "display_data"
    },
    {
     "data": {
      "image/png": "[encoded data removed]",
      "text/plain": [
       "<Figure size 432x288 with 1 Axes>"
      ]
     },
     "metadata": {},
     "output_type": "display_data"
    }
   ],
   "source": [
    "plt.hist(betaMatrix[0], bins = 100)\n",
    "plt.title(\"Alpha-hat\")\n",
    "plt.show()\n",
    "plt.hist(betaMatrix[1], bins = 100)\n",
    "plt.title(\"Beta-hat\")\n",
    "plt.show()"
   ]
  },
  {
   "cell_type": "markdown",
   "metadata": {},
   "source": [
    "## Part (d): Comparison:"
   ]
  },
  {
   "cell_type": "markdown",
   "metadata": {},
   "source": [
    "- The theoretical distribution of the estimated alpha and beta are approaching the normal distribution; however we have the biaseness of Beta-hat, 1.5 instead of 1."
   ]
  },
  {
   "cell_type": "markdown",
   "metadata": {},
   "source": [
    "## Part 3: For T Distribution Case: Assuming T Distribution for fx and fe, with DoF=5:\n"
   ]
  },
  {
   "cell_type": "markdown",
   "metadata": {},
   "source": [
    "## (a): Properties of OLS estimators:"
   ]
  },
  {
   "cell_type": "markdown",
   "metadata": {},
   "source": [
    "- The theoretical properties of the OLS estimators alpha-hat and beta-hat are: both estimators are Linear, unbiased (both of them approach True Beta and alpha), efficient (least variance among all unbiased estimators) and homoskedastic, implying that there is no autocorrelation thus exogenous, and consistent.\n",
    "\n",
    "- The theoretical distrinution of both estimators is normal with mean 1, hence, as n tends to infinity then it is asympotically normal."
   ]
  },
  {
   "cell_type": "markdown",
   "metadata": {},
   "source": [
    "## (b) and (c): Calculating Alpha-hat, Beta-hat, Mean, Standard Deviation, and Plotting:"
   ]
  },
  {
   "cell_type": "code",
   "execution_count": 12,
   "metadata": {},
   "outputs": [],
   "source": [
    "def func_3(M,n):\n",
    "    # part b:\n",
    "    alpha = 1 \n",
    "    beta = 1\n",
    "    α = np.ones((M,n))\n",
    "    y = np.zeros((M,n))\n",
    "    x = np.random.standard_t(5,(M,n))\n",
    "    e = np.random.standard_t(5,(M,n))\n",
    "    for i in range(len(x)):\n",
    "        for j in range(len(x[i])):\n",
    "            y[i][j] = alpha + beta*(x[i][j]) +e[i][j]\n",
    "            \n",
    "    # calculating alpha and beta\n",
    "    betaMatrix = []\n",
    "    sigmaY = []\n",
    "    for i in range(len(x)):\n",
    "        dfα = pd.DataFrame(α[i])\n",
    "        dfα[\"1\"] = x[i] \n",
    "        betaMatrix.append(((np.linalg.inv((dfα.transpose()).dot(dfα)))).dot(dfα.transpose()).dot(pd.DataFrame(y[i])))\n",
    "    \n",
    "        #Calculate Errors\n",
    "        \n",
    "        errors = np.subtract(pd.DataFrame(y[i]),dfα.dot(betaMatrix[i])) \n",
    "        errorsSquared = np.power(errors, 2) \n",
    "        \n",
    "        # Calculate Variance, Covariance and Sigma\n",
    "        \n",
    "        variance = (errorsSquared.sum(axis=0))/n \n",
    "        covarianceMatrixY = variance[0]*(np.linalg.inv((dfα.transpose()).dot(dfα))) \n",
    "        sigmaY.append(np.sqrt(np.diag(covarianceMatrixY)))\n",
    "    # mean\n",
    "    betaMatrix = np.swapaxes(betaMatrix,0,1)\n",
    "    meanMatrix = []\n",
    "    meanMatrix.append(np.mean(betaMatrix[0]))\n",
    "    meanMatrix.append(np.mean(betaMatrix[1]))\n",
    "    \n",
    "    # std\n",
    "    stdMatrix = []\n",
    "    stdMatrix.append(np.std(betaMatrix[0]))\n",
    "    stdMatrix.append(np.std(betaMatrix[1]))\n",
    "    \n",
    "    return betaMatrix, sigmaY, meanMatrix, stdMatrix\n"
   ]
  },
  {
   "cell_type": "code",
   "execution_count": 13,
   "metadata": {},
   "outputs": [],
   "source": [
    "betaMatrix, sigmaY, meanMatrix, stdMatrix = func_3(M,n)"
   ]
  },
  {
   "cell_type": "code",
   "execution_count": 14,
   "metadata": {},
   "outputs": [
    {
     "name": "stdout",
     "output_type": "stream",
     "text": [
      "\n",
      "This is BetaMatrix: Containing Both, Beta-hat and Alpha-hat in one Array:\n",
      "\n",
      "[[[1.21820167]\n",
      "  [1.23084984]\n",
      "  [0.90854707]\n",
      "  ...\n",
      "  [0.8867861 ]\n",
      "  [0.84734161]\n",
      "  [1.05409868]]\n",
      "\n",
      " [[1.08727601]\n",
      "  [1.13630818]\n",
      "  [0.84326667]\n",
      "  ...\n",
      "  [0.67985515]\n",
      "  [1.06502625]\n",
      "  [0.98596385]]]\n",
      "\n",
      "This is Standard error: This is a sample of the std (since printing it all out will take so many pages) \n",
      "\n",
      "[array([0.1706749 , 0.13143222]), array([0.21293586, 0.19752332]), array([0.19393962, 0.13856022]), array([0.18006921, 0.14944902]), array([0.16551031, 0.09682148]), array([0.16279135, 0.11267061]), array([0.18441397, 0.16126661]), array([0.17388794, 0.15176623]), array([0.19669312, 0.13048137]), array([0.17356803, 0.1675677 ]), array([0.2123198 , 0.18063893]), array([0.1512501 , 0.09239495]), array([0.16707017, 0.18062906]), array([0.17723991, 0.16050202]), array([0.16838227, 0.10290339]), array([0.23581493, 0.14147086]), array([0.15079224, 0.11779614]), array([0.19647829, 0.14546175]), array([0.1524413 , 0.09108015]), array([0.19004631, 0.13632291]), array([0.15895815, 0.13920041]), array([0.1696987 , 0.13984594]), array([0.21764265, 0.14763348]), array([0.16845806, 0.12682664]), array([0.14362536, 0.09362901]), array([0.24064645, 0.20488463]), array([0.1610135, 0.1038086]), array([0.15711812, 0.11374092]), array([0.15166522, 0.12718788]), array([0.22434798, 0.17323879]), array([0.21098777, 0.17080948]), array([0.20774008, 0.13296546]), array([0.17899219, 0.13915171]), array([0.21197443, 0.19965982]), array([0.17477568, 0.11186766]), array([0.15859964, 0.13718963]), array([0.19039511, 0.13288254]), array([0.21010428, 0.13814958]), array([0.17994996, 0.13542758]), array([0.18309255, 0.11254924]), array([0.15063793, 0.12396251]), array([0.20137436, 0.15616844]), array([0.22454223, 0.21797186]), array([0.21812599, 0.20975154]), array([0.16776415, 0.11085686]), array([0.17249483, 0.11351387]), array([0.17318467, 0.14127863]), array([0.20399638, 0.18640742]), array([0.17728441, 0.15001242]), array([0.13154795, 0.1185176 ])]\n",
      "\n",
      "This is meanMatrix\n",
      "\n",
      "[1.0016930711670975, 0.9978761613659093]\n",
      "\n",
      "This is stdMatrix\n",
      "\n",
      "[0.18138920949573964, 0.15043879510401723]\n"
     ]
    }
   ],
   "source": [
    "print(\"\\nThis is BetaMatrix: Containing Both, Beta-hat and Alpha-hat in one Array:\\n\")\n",
    "print(betaMatrix)\n",
    "print(\"\\nThis is Standard error: This is a sample of the std (since printing it all out will take so many pages) \\n\")\n",
    "print(sigmaY[0:50])\n",
    "print(\"\\nThis is meanMatrix\\n\")\n",
    "print(meanMatrix)\n",
    "print(\"\\nThis is stdMatrix\\n\")\n",
    "print(stdMatrix)"
   ]
  },
  {
   "cell_type": "code",
   "execution_count": 15,
   "metadata": {},
   "outputs": [
    {
     "data": {
      "image/png": "[encoded data removed]",
      "text/plain": [
       "<Figure size 432x288 with 1 Axes>"
      ]
     },
     "metadata": {},
     "output_type": "display_data"
    },
    {
     "data": {
      "image/png": "[encoded data removed]",
      "text/plain": [
       "<Figure size 432x288 with 1 Axes>"
      ]
     },
     "metadata": {},
     "output_type": "display_data"
    }
   ],
   "source": [
    "plt.hist(betaMatrix[0], bins = 100)\n",
    "plt.title(\"Alpha-hat\")\n",
    "plt.show()\n",
    "plt.hist(betaMatrix[1], bins = 100)\n",
    "plt.title(\"Beta-hat\")\n",
    "plt.show()"
   ]
  },
  {
   "cell_type": "markdown",
   "metadata": {},
   "source": [
    "## Part (d): Comparison:"
   ]
  },
  {
   "cell_type": "markdown",
   "metadata": {},
   "source": [
    "- The theoretical distribution of the estimated alpha and beta are approaching the normal distribution; where we have both, beta-hat and alpha-hat approaches True 1."
   ]
  },
  {
   "cell_type": "markdown",
   "metadata": {},
   "source": [
    "## Part 4: For Uniform Distribution Case: Assuming Uniform Distribution for fx and fe,         with U ~[0,1]:"
   ]
  },
  {
   "cell_type": "markdown",
   "metadata": {},
   "source": [
    "## (a): Properties of OLS estimators:"
   ]
  },
  {
   "cell_type": "markdown",
   "metadata": {},
   "source": [
    "\n",
    "- The theoretical properties of the OLS estimators alpha-hat and beta-hat are: \n",
    "\n",
    "    - For Alpha-hat: linear, biased (Alpha hat is equal to 1.5 however Alpha is 1), heteroskedastic and endogenous (there is correlation), efficient, and not consistent.     \n",
    "    - For Beta-hat: Linear, unbiased (approach True Beta), homoskedastic, implying that there is no autocorrelation thus exogenous, and consistent.\n",
    "    \n",
    "- The theoretical distrinution of both estimators is normal, hence, as n tends to infinity then it is asympotically normal."
   ]
  },
  {
   "cell_type": "markdown",
   "metadata": {},
   "source": [
    "## (b) and (c): Calculating Alpha-hat, Beta-hat, Mean, Standard Deviation, and Plotting:"
   ]
  },
  {
   "cell_type": "code",
   "execution_count": 16,
   "metadata": {},
   "outputs": [],
   "source": [
    "def func_4(M,n):\n",
    "    # part b:\n",
    "    alpha = 1 \n",
    "    beta = 1\n",
    "    α = np.ones((M,n))\n",
    "    y = np.zeros((M,n))\n",
    "    x = np.random.uniform(0,1,(M,n))\n",
    "    e = np.random.uniform(0,1,(M,n))\n",
    "    \n",
    "    for i in range(len(x)):\n",
    "        for j in range(len(x[i])):\n",
    "            y[i][j] = alpha + beta*(x[i][j]) +e[i][j]\n",
    "            \n",
    "    # calculating alpha and beta\n",
    "    betaMatrix = []\n",
    "    sigmaY = []\n",
    "    for i in range(len(x)):\n",
    "        dfα = pd.DataFrame(α[i])\n",
    "        dfα[\"1\"] = x[i] \n",
    "        betaMatrix.append(((np.linalg.inv((dfα.transpose()).dot(dfα)))).dot(dfα.transpose()).dot(pd.DataFrame(y[i])))\n",
    "    \n",
    "        #Calculate Errors\n",
    "        \n",
    "        errors = np.subtract(pd.DataFrame(y[i]),dfα.dot(betaMatrix[i])) \n",
    "        errorsSquared = np.power(errors, 2) \n",
    "        \n",
    "        # Calculate Variance, Covariance and Sigma\n",
    "        \n",
    "        variance = (errorsSquared.sum(axis=0))/n \n",
    "        covarianceMatrixY = variance[0]*(np.linalg.inv((dfα.transpose()).dot(dfα))) \n",
    "        sigmaY.append(np.sqrt(np.diag(covarianceMatrixY)))\n",
    "    # mean\n",
    "    betaMatrix = np.swapaxes(betaMatrix,0,1)\n",
    "    meanMatrix = []\n",
    "    meanMatrix.append(np.mean(betaMatrix[0]))\n",
    "    meanMatrix.append(np.mean(betaMatrix[1]))\n",
    "    \n",
    "    # std\n",
    "    stdMatrix = []\n",
    "    stdMatrix.append(np.std(betaMatrix[0]))\n",
    "    stdMatrix.append(np.std(betaMatrix[1]))\n",
    "    \n",
    "    return betaMatrix, sigmaY, meanMatrix, stdMatrix\n"
   ]
  },
  {
   "cell_type": "code",
   "execution_count": 17,
   "metadata": {},
   "outputs": [],
   "source": [
    "betaMatrix, sigmaY, meanMatrix, stdMatrix = func_4(M,n)"
   ]
  },
  {
   "cell_type": "code",
   "execution_count": 18,
   "metadata": {},
   "outputs": [
    {
     "name": "stdout",
     "output_type": "stream",
     "text": [
      "\n",
      "This is BetaMatrix: Containing Both, Beta-hat and Alpha-hat in one Array:\n",
      "\n",
      "[[[1.51459842]\n",
      "  [1.52040073]\n",
      "  [1.62888046]\n",
      "  ...\n",
      "  [1.56388316]\n",
      "  [1.4013267 ]\n",
      "  [1.50342965]]\n",
      "\n",
      " [[0.92879914]\n",
      "  [1.01307437]\n",
      "  [0.91952866]\n",
      "  ...\n",
      "  [0.71491186]\n",
      "  [1.13732122]\n",
      "  [0.88565809]]]\n",
      "\n",
      "This is Standard error: This is a sample of the std (since printing it all out will take so many pages) \n",
      "\n",
      "[array([0.07743108, 0.14317678]), array([0.0870235 , 0.15173961]), array([0.07706256, 0.13625736]), array([0.08336824, 0.14955651]), array([0.08207341, 0.13948354]), array([0.09708216, 0.16442974]), array([0.07495429, 0.13760619]), array([0.09190416, 0.15047077]), array([0.08587218, 0.14984148]), array([0.0668416 , 0.10941772]), array([0.08037485, 0.1423905 ]), array([0.08241659, 0.14479373]), array([0.074359 , 0.1333472]), array([0.08188352, 0.15691495]), array([0.08625966, 0.16935841]), array([0.0893483 , 0.15848246]), array([0.06679767, 0.13152735]), array([0.09073999, 0.13608509]), array([0.07396399, 0.1385584 ]), array([0.0846994 , 0.14105738]), array([0.08286601, 0.14971118]), array([0.07126901, 0.13240088]), array([0.07815827, 0.12692318]), array([0.09366018, 0.15441867]), array([0.06401068, 0.12256755]), array([0.07664067, 0.14291543]), array([0.07191978, 0.12725981]), array([0.08048003, 0.13403301]), array([0.07374389, 0.1399008 ]), array([0.09929635, 0.14948798]), array([0.09000013, 0.14662301]), array([0.07941326, 0.14304303]), array([0.07183933, 0.12608846]), array([0.07697133, 0.15537606]), array([0.07897935, 0.1317904 ]), array([0.06994515, 0.1348958 ]), array([0.08734576, 0.15524528]), array([0.08253294, 0.13974079]), array([0.08722652, 0.14915243]), array([0.08207487, 0.13202964]), array([0.07712825, 0.13686032]), array([0.08143977, 0.15285559]), array([0.08299771, 0.14271962]), array([0.08274223, 0.15686818]), array([0.10578288, 0.17619985]), array([0.07604578, 0.13854057]), array([0.07312244, 0.12187391]), array([0.0826274 , 0.13024163]), array([0.07779388, 0.13985629]), array([0.07536472, 0.13711572])]\n",
      "\n",
      "This is meanMatrix\n",
      "\n",
      "[1.4989332301331988, 1.0019618905642127]\n",
      "\n",
      "This is stdMatrix\n",
      "\n",
      "[0.08294866236474062, 0.14461030441228243]\n"
     ]
    }
   ],
   "source": [
    "print(\"\\nThis is BetaMatrix: Containing Both, Beta-hat and Alpha-hat in one Array:\\n\")\n",
    "print(betaMatrix)\n",
    "print(\"\\nThis is Standard error: This is a sample of the std (since printing it all out will take so many pages) \\n\")\n",
    "print(sigmaY[0:50])\n",
    "print(\"\\nThis is meanMatrix\\n\")\n",
    "print(meanMatrix)\n",
    "print(\"\\nThis is stdMatrix\\n\")\n",
    "print(stdMatrix)"
   ]
  },
  {
   "cell_type": "code",
   "execution_count": 19,
   "metadata": {},
   "outputs": [
    {
     "data": {
      "image/png": "[encoded data removed]",
      "text/plain": [
       "<Figure size 432x288 with 1 Axes>"
      ]
     },
     "metadata": {},
     "output_type": "display_data"
    },
    {
     "data": {
      "image/png": "[encoded data removed]",
      "text/plain": [
       "<Figure size 432x288 with 1 Axes>"
      ]
     },
     "metadata": {},
     "output_type": "display_data"
    }
   ],
   "source": [
    "plt.hist(betaMatrix[0], bins = 100)\n",
    "plt.title(\"Alpha-hat\")\n",
    "plt.show()\n",
    "plt.hist(betaMatrix[1], bins = 100)\n",
    "plt.title(\"Beta-hat\")\n",
    "plt.show()"
   ]
  },
  {
   "cell_type": "markdown",
   "metadata": {},
   "source": [
    "## Part (d): Comparison:"
   ]
  },
  {
   "cell_type": "markdown",
   "metadata": {},
   "source": [
    "- The theoretical distribution of the estimated alpha and beta are approaching the normal distribution; however we have the biaseness of Alpha-hat, 1.5 instead of 1."
   ]
  },
  {
   "cell_type": "markdown",
   "metadata": {},
   "source": [
    "## Part 5: We will conduct the following pattern on the four given different distributions: where we will be testing for N= 25 and N=100."
   ]
  },
  {
   "cell_type": "markdown",
   "metadata": {},
   "source": [
    "### A- For Normal Distribution:"
   ]
  },
  {
   "cell_type": "markdown",
   "metadata": {},
   "source": [
    "#### For N = 25"
   ]
  },
  {
   "cell_type": "code",
   "execution_count": 20,
   "metadata": {},
   "outputs": [
    {
     "data": {
      "image/png": "[encoded data removed]",
      "text/plain": [
       "<Figure size 432x288 with 1 Axes>"
      ]
     },
     "metadata": {},
     "output_type": "display_data"
    },
    {
     "data": {
      "image/png": "[encoded data removed]",
      "text/plain": [
       "<Figure size 432x288 with 1 Axes>"
      ]
     },
     "metadata": {},
     "output_type": "display_data"
    }
   ],
   "source": [
    "betaMatrix, sigmaY, meanMatrix, stdMatrix = func_1(M,25)\n",
    "plt.hist(betaMatrix[0], bins = 100)\n",
    "plt.title(\"Alpha-hat\")\n",
    "plt.show()\n",
    "plt.hist(betaMatrix[1], bins = 100)\n",
    "plt.title(\"Beta-hat\")\n",
    "plt.show()"
   ]
  },
  {
   "cell_type": "markdown",
   "metadata": {},
   "source": [
    "#### For N = 100"
   ]
  },
  {
   "cell_type": "code",
   "execution_count": 21,
   "metadata": {},
   "outputs": [
    {
     "data": {
      "image/png": "[encoded data removed]",
      "text/plain": [
       "<Figure size 432x288 with 1 Axes>"
      ]
     },
     "metadata": {},
     "output_type": "display_data"
    },
    {
     "data": {
      "image/png": "[encoded data removed]",
      "text/plain": [
       "<Figure size 432x288 with 1 Axes>"
      ]
     },
     "metadata": {},
     "output_type": "display_data"
    }
   ],
   "source": [
    "betaMatrix, sigmaY, meanMatrix, stdMatrix = func_1(M,100)\n",
    "plt.hist(betaMatrix[0], bins = 100)\n",
    "plt.title(\"Alpha-hat\")\n",
    "plt.show()\n",
    "plt.hist(betaMatrix[1], bins = 100)\n",
    "plt.title(\"Beta-hat\")\n",
    "plt.show()"
   ]
  },
  {
   "cell_type": "markdown",
   "metadata": {},
   "source": [
    "- For the normal distribution, as n increases, the estimators, alpha and beta, approach normal distribution; however, this approach is accompanied with tighter distribution as n increases."
   ]
  },
  {
   "cell_type": "markdown",
   "metadata": {},
   "source": [
    "### B- For Normal Distribution, with correlation factor of 0.5:"
   ]
  },
  {
   "cell_type": "markdown",
   "metadata": {},
   "source": [
    "#### For N = 25"
   ]
  },
  {
   "cell_type": "code",
   "execution_count": 22,
   "metadata": {},
   "outputs": [
    {
     "data": {
      "image/png": "[encoded data removed]",
      "text/plain": [
       "<Figure size 432x288 with 1 Axes>"
      ]
     },
     "metadata": {},
     "output_type": "display_data"
    },
    {
     "data": {
      "image/png": "[encoded data removed]",
      "text/plain": [
       "<Figure size 432x288 with 1 Axes>"
      ]
     },
     "metadata": {},
     "output_type": "display_data"
    }
   ],
   "source": [
    "betaMatrix, sigmaY, meanMatrix, stdMatrix = func_2(M,25)\n",
    "plt.hist(betaMatrix[0], bins = 100)\n",
    "plt.title(\"Alpha-hat\")\n",
    "plt.show()\n",
    "plt.hist(betaMatrix[1], bins = 100)\n",
    "plt.title(\"Beta-hat\")\n",
    "plt.show()"
   ]
  },
  {
   "cell_type": "markdown",
   "metadata": {},
   "source": [
    "#### For N = 100"
   ]
  },
  {
   "cell_type": "code",
   "execution_count": 23,
   "metadata": {},
   "outputs": [
    {
     "data": {
      "image/png": "[encoded data removed]",
      "text/plain": [
       "<Figure size 432x288 with 1 Axes>"
      ]
     },
     "metadata": {},
     "output_type": "display_data"
    },
    {
     "data": {
      "image/png": "[encoded data removed]",
      "text/plain": [
       "<Figure size 432x288 with 1 Axes>"
      ]
     },
     "metadata": {},
     "output_type": "display_data"
    }
   ],
   "source": [
    "betaMatrix, sigmaY, meanMatrix, stdMatrix = func_2(M,100)\n",
    "plt.hist(betaMatrix[0], bins = 100)\n",
    "plt.title(\"Alpha-hat\")\n",
    "plt.show()\n",
    "plt.hist(betaMatrix[1], bins = 100)\n",
    "plt.title(\"Beta-hat\")\n",
    "plt.show()"
   ]
  },
  {
   "cell_type": "markdown",
   "metadata": {},
   "source": [
    "- There is no major difference as n increases; however, the distribution becomes tighter and Beta-hat is still biased."
   ]
  },
  {
   "cell_type": "markdown",
   "metadata": {},
   "source": [
    "### C- For T-Distribution, DoF=5:"
   ]
  },
  {
   "cell_type": "markdown",
   "metadata": {},
   "source": [
    "#### For N=25:"
   ]
  },
  {
   "cell_type": "code",
   "execution_count": 24,
   "metadata": {},
   "outputs": [
    {
     "data": {
      "image/png": "[encoded data removed]",
      "text/plain": [
       "<Figure size 432x288 with 1 Axes>"
      ]
     },
     "metadata": {},
     "output_type": "display_data"
    },
    {
     "data": {
      "image/png": "[encoded data removed]",
      "text/plain": [
       "<Figure size 432x288 with 1 Axes>"
      ]
     },
     "metadata": {},
     "output_type": "display_data"
    }
   ],
   "source": [
    "betaMatrix, sigmaY, meanMatrix, stdMatrix = func_3(M,25)\n",
    "plt.hist(betaMatrix[0], bins = 100)\n",
    "plt.title(\"Alpha-hat\")\n",
    "plt.show()\n",
    "plt.hist(betaMatrix[1], bins = 100)\n",
    "plt.title(\"Beta-hat\")\n",
    "plt.show()"
   ]
  },
  {
   "cell_type": "markdown",
   "metadata": {},
   "source": [
    "#### For N=100:"
   ]
  },
  {
   "cell_type": "code",
   "execution_count": 25,
   "metadata": {},
   "outputs": [
    {
     "data": {
      "image/png": "[encoded data removed]",
      "text/plain": [
       "<Figure size 432x288 with 1 Axes>"
      ]
     },
     "metadata": {},
     "output_type": "display_data"
    },
    {
     "data": {
      "image/png": "[encoded data removed]",
      "text/plain": [
       "<Figure size 432x288 with 1 Axes>"
      ]
     },
     "metadata": {},
     "output_type": "display_data"
    }
   ],
   "source": [
    "betaMatrix, sigmaY, meanMatrix, stdMatrix = func_3(M,100)\n",
    "plt.hist(betaMatrix[0], bins = 100)\n",
    "plt.title(\"Alpha-hat\")\n",
    "plt.show()\n",
    "plt.hist(betaMatrix[1], bins = 100)\n",
    "plt.title(\"Beta-hat\")\n",
    "plt.show()"
   ]
  },
  {
   "cell_type": "markdown",
   "metadata": {},
   "source": [
    "- For the T - distribution, as n increases, the estimators, alpha and beta, approach normal distribution.\n",
    "\n",
    "- It approaches a normal distribution as N increases, this can seen as the tials are getting narrower. \n"
   ]
  },
  {
   "cell_type": "markdown",
   "metadata": {},
   "source": [
    "### D- For Uniform Distribution: U ~ [0,1]:"
   ]
  },
  {
   "cell_type": "markdown",
   "metadata": {},
   "source": [
    "#### For N = 25:"
   ]
  },
  {
   "cell_type": "code",
   "execution_count": 26,
   "metadata": {},
   "outputs": [
    {
     "data": {
      "image/png": "[encoded data removed]",
      "text/plain": [
       "<Figure size 432x288 with 1 Axes>"
      ]
     },
     "metadata": {},
     "output_type": "display_data"
    },
    {
     "data": {
      "image/png": "[encoded data removed]",
      "text/plain": [
       "<Figure size 432x288 with 1 Axes>"
      ]
     },
     "metadata": {},
     "output_type": "display_data"
    }
   ],
   "source": [
    "betaMatrix, sigmaY, meanMatrix, stdMatrix = func_4(M,25)\n",
    "plt.hist(betaMatrix[0], bins = 100)\n",
    "plt.title(\"Alpha-hat\")\n",
    "plt.show()\n",
    "plt.hist(betaMatrix[1], bins = 100)\n",
    "plt.title(\"Beta-hat\")\n",
    "plt.show()"
   ]
  },
  {
   "cell_type": "markdown",
   "metadata": {},
   "source": [
    "#### For N = 100:"
   ]
  },
  {
   "cell_type": "code",
   "execution_count": 27,
   "metadata": {},
   "outputs": [
    {
     "data": {
      "image/png": "[encoded data removed]",
      "text/plain": [
       "<Figure size 432x288 with 1 Axes>"
      ]
     },
     "metadata": {},
     "output_type": "display_data"
    },
    {
     "data": {
      "image/png": "[encoded data removed]",
      "text/plain": [
       "<Figure size 432x288 with 1 Axes>"
      ]
     },
     "metadata": {},
     "output_type": "display_data"
    }
   ],
   "source": [
    "betaMatrix, sigmaY, meanMatrix, stdMatrix = func_4(M,100)\n",
    "plt.hist(betaMatrix[0], bins = 100)\n",
    "plt.title(\"Alpha-hat\")\n",
    "plt.show()\n",
    "plt.hist(betaMatrix[1], bins = 100)\n",
    "plt.title(\"Beta-hat\")\n",
    "plt.show()"
   ]
  },
  {
   "cell_type": "markdown",
   "metadata": {},
   "source": [
    "- There is no major difference as n increases; however, the distribution becomes tighter and Beta-hat is still biased."
   ]
  }
 ],
 "metadata": {
  "kernelspec": {
   "display_name": "Python 3",
   "language": "python",
   "name": "python3"
  },
  "language_info": {
   "codemirror_mode": {
    "name": "ipython",
    "version": 3
   },
   "file_extension": ".py",
   "mimetype": "text/x-python",
   "name": "python",
   "nbconvert_exporter": "python",
   "pygments_lexer": "ipython3",
   "version": "3.6.5"
  }
 },
 "nbformat": 4,
 "nbformat_minor": 2
}
